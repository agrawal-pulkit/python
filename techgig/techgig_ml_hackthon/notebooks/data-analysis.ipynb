{
 "cells": [
  {
   "cell_type": "code",
   "execution_count": 76,
   "metadata": {},
   "outputs": [],
   "source": [
    "import pandas as pd\n",
    "import numpy as np\n",
    "import os\n",
    "%matplotlib inline"
   ]
  },
  {
   "cell_type": "code",
   "execution_count": 77,
   "metadata": {},
   "outputs": [],
   "source": [
    "raw_file_path = os.path.join(os.path.pardir, 'data', 'raw', 'Training_data.xlsx')"
   ]
  },
  {
   "cell_type": "code",
   "execution_count": 78,
   "metadata": {},
   "outputs": [],
   "source": [
    "df = pd.read_excel(raw_file_path)"
   ]
  },
  {
   "cell_type": "code",
   "execution_count": 79,
   "metadata": {},
   "outputs": [
    {
     "data": {
      "text/html": [
       "<div>\n",
       "<style scoped>\n",
       "    .dataframe tbody tr th:only-of-type {\n",
       "        vertical-align: middle;\n",
       "    }\n",
       "\n",
       "    .dataframe tbody tr th {\n",
       "        vertical-align: top;\n",
       "    }\n",
       "\n",
       "    .dataframe thead th {\n",
       "        text-align: right;\n",
       "    }\n",
       "</style>\n",
       "<table border=\"1\" class=\"dataframe\">\n",
       "  <thead>\n",
       "    <tr style=\"text-align: right;\">\n",
       "      <th></th>\n",
       "      <th>ProductModelNo</th>\n",
       "      <th>ManufacturingCost</th>\n",
       "      <th>SellingCost</th>\n",
       "      <th>ProfitMargin</th>\n",
       "      <th>MarketShare</th>\n",
       "      <th>WarrantyPeriod</th>\n",
       "      <th>ServiceCenter</th>\n",
       "      <th>ClaimsMadeByCustInWarranty</th>\n",
       "      <th>RepairExpenditureDuringWarranty</th>\n",
       "      <th>ReplacementExpenditureDuringWarranty</th>\n",
       "      <th>FrequentFaults</th>\n",
       "      <th>FixedServiceCost</th>\n",
       "      <th>ProductLifeSpan</th>\n",
       "    </tr>\n",
       "  </thead>\n",
       "  <tbody>\n",
       "    <tr>\n",
       "      <th>0</th>\n",
       "      <td>1</td>\n",
       "      <td>100</td>\n",
       "      <td>120</td>\n",
       "      <td>16.666667</td>\n",
       "      <td>10</td>\n",
       "      <td>1</td>\n",
       "      <td>40</td>\n",
       "      <td>10</td>\n",
       "      <td>20</td>\n",
       "      <td>10.0</td>\n",
       "      <td>1</td>\n",
       "      <td>31.2</td>\n",
       "      <td>3</td>\n",
       "    </tr>\n",
       "    <tr>\n",
       "      <th>1</th>\n",
       "      <td>2</td>\n",
       "      <td>206</td>\n",
       "      <td>230</td>\n",
       "      <td>10.434783</td>\n",
       "      <td>14</td>\n",
       "      <td>1</td>\n",
       "      <td>50</td>\n",
       "      <td>15</td>\n",
       "      <td>45</td>\n",
       "      <td>22.5</td>\n",
       "      <td>2</td>\n",
       "      <td>72.9</td>\n",
       "      <td>3</td>\n",
       "    </tr>\n",
       "    <tr>\n",
       "      <th>2</th>\n",
       "      <td>3</td>\n",
       "      <td>309</td>\n",
       "      <td>320</td>\n",
       "      <td>3.437500</td>\n",
       "      <td>15</td>\n",
       "      <td>1</td>\n",
       "      <td>60</td>\n",
       "      <td>15</td>\n",
       "      <td>60</td>\n",
       "      <td>30.0</td>\n",
       "      <td>3</td>\n",
       "      <td>100.8</td>\n",
       "      <td>3</td>\n",
       "    </tr>\n",
       "    <tr>\n",
       "      <th>3</th>\n",
       "      <td>4</td>\n",
       "      <td>412</td>\n",
       "      <td>450</td>\n",
       "      <td>8.444444</td>\n",
       "      <td>16</td>\n",
       "      <td>1</td>\n",
       "      <td>70</td>\n",
       "      <td>10</td>\n",
       "      <td>20</td>\n",
       "      <td>10.0</td>\n",
       "      <td>1</td>\n",
       "      <td>31.2</td>\n",
       "      <td>3</td>\n",
       "    </tr>\n",
       "    <tr>\n",
       "      <th>4</th>\n",
       "      <td>5</td>\n",
       "      <td>515</td>\n",
       "      <td>550</td>\n",
       "      <td>6.363636</td>\n",
       "      <td>12</td>\n",
       "      <td>2</td>\n",
       "      <td>30</td>\n",
       "      <td>40</td>\n",
       "      <td>120</td>\n",
       "      <td>60.0</td>\n",
       "      <td>1</td>\n",
       "      <td>183.6</td>\n",
       "      <td>3</td>\n",
       "    </tr>\n",
       "  </tbody>\n",
       "</table>\n",
       "</div>"
      ],
      "text/plain": [
       "   ProductModelNo  ManufacturingCost  SellingCost  ProfitMargin  MarketShare  \\\n",
       "0               1                100          120     16.666667           10   \n",
       "1               2                206          230     10.434783           14   \n",
       "2               3                309          320      3.437500           15   \n",
       "3               4                412          450      8.444444           16   \n",
       "4               5                515          550      6.363636           12   \n",
       "\n",
       "   WarrantyPeriod  ServiceCenter  ClaimsMadeByCustInWarranty  \\\n",
       "0               1             40                          10   \n",
       "1               1             50                          15   \n",
       "2               1             60                          15   \n",
       "3               1             70                          10   \n",
       "4               2             30                          40   \n",
       "\n",
       "   RepairExpenditureDuringWarranty  ReplacementExpenditureDuringWarranty  \\\n",
       "0                               20                                  10.0   \n",
       "1                               45                                  22.5   \n",
       "2                               60                                  30.0   \n",
       "3                               20                                  10.0   \n",
       "4                              120                                  60.0   \n",
       "\n",
       "   FrequentFaults  FixedServiceCost  ProductLifeSpan  \n",
       "0               1              31.2                3  \n",
       "1               2              72.9                3  \n",
       "2               3             100.8                3  \n",
       "3               1              31.2                3  \n",
       "4               1             183.6                3  "
      ]
     },
     "execution_count": 79,
     "metadata": {},
     "output_type": "execute_result"
    }
   ],
   "source": [
    "df.head()"
   ]
  },
  {
   "cell_type": "code",
   "execution_count": 80,
   "metadata": {},
   "outputs": [
    {
     "data": {
      "text/plain": [
       "(23, 13)"
      ]
     },
     "execution_count": 80,
     "metadata": {},
     "output_type": "execute_result"
    }
   ],
   "source": [
    "df.shape"
   ]
  },
  {
   "cell_type": "code",
   "execution_count": 81,
   "metadata": {},
   "outputs": [
    {
     "name": "stdout",
     "output_type": "stream",
     "text": [
      "<class 'pandas.core.frame.DataFrame'>\n",
      "RangeIndex: 23 entries, 0 to 22\n",
      "Data columns (total 13 columns):\n",
      "ProductModelNo                          23 non-null int64\n",
      "ManufacturingCost                       23 non-null int64\n",
      "SellingCost                             23 non-null int64\n",
      "ProfitMargin                            23 non-null float64\n",
      "MarketShare                             23 non-null int64\n",
      "WarrantyPeriod                          23 non-null int64\n",
      "ServiceCenter                           23 non-null int64\n",
      "ClaimsMadeByCustInWarranty              23 non-null int64\n",
      "RepairExpenditureDuringWarranty         23 non-null int64\n",
      "ReplacementExpenditureDuringWarranty    23 non-null float64\n",
      "FrequentFaults                          23 non-null int64\n",
      "FixedServiceCost                        23 non-null float64\n",
      "ProductLifeSpan                         23 non-null int64\n",
      "dtypes: float64(3), int64(10)\n",
      "memory usage: 2.4 KB\n"
     ]
    }
   ],
   "source": [
    "df.info()"
   ]
  },
  {
   "cell_type": "code",
   "execution_count": 82,
   "metadata": {},
   "outputs": [
    {
     "data": {
      "text/plain": [
       "<matplotlib.axes._subplots.AxesSubplot at 0x7f55534eb128>"
      ]
     },
     "execution_count": 82,
     "metadata": {},
     "output_type": "execute_result"
    },
    {
     "data": {
      "image/png": "[encoded data removed]",
      "text/plain": [
       "<matplotlib.figure.Figure at 0x7f55534eb9b0>"
      ]
     },
     "metadata": {},
     "output_type": "display_data"
    }
   ],
   "source": [
    "df.ProfitMargin.plot(kind='box')"
   ]
  },
  {
   "cell_type": "code",
   "execution_count": 83,
   "metadata": {},
   "outputs": [
    {
     "data": {
      "text/plain": [
       "<matplotlib.axes._subplots.AxesSubplot at 0x7f5553492c88>"
      ]
     },
     "execution_count": 83,
     "metadata": {},
     "output_type": "execute_result"
    },
    {
     "data": {
      "image/png": "[encoded data removed]",
      "text/plain": [
       "<matplotlib.figure.Figure at 0x7f55534e2a90>"
      ]
     },
     "metadata": {},
     "output_type": "display_data"
    }
   ],
   "source": [
    "df.ProfitMargin.plot(kind='hist')"
   ]
  },
  {
   "cell_type": "code",
   "execution_count": 84,
   "metadata": {},
   "outputs": [
    {
     "data": {
      "text/plain": [
       "<matplotlib.axes._subplots.AxesSubplot at 0x7f55534a06a0>"
      ]
     },
     "execution_count": 84,
     "metadata": {},
     "output_type": "execute_result"
    },
    {
     "data": {
      "image/png": "[encoded data removed]",
      "text/plain": [
       "<matplotlib.figure.Figure at 0x7f55534a2080>"
      ]
     },
     "metadata": {},
     "output_type": "display_data"
    }
   ],
   "source": [
    "df.ProfitMargin.plot(kind='kde')"
   ]
  },
  {
   "cell_type": "markdown",
   "metadata": {},
   "source": [
    "## step1: predict product margin"
   ]
  },
  {
   "cell_type": "markdown",
   "metadata": {},
   "source": [
    "### split data into training and test as 80/20 for cross validation"
   ]
  },
  {
   "cell_type": "code",
   "execution_count": 85,
   "metadata": {},
   "outputs": [],
   "source": [
    "#convert input and output features\n",
    "#reorder columns\n",
    "columns = [column for column in df.columns if column != 'ProfitMargin']\n",
    "columns = ['ProfitMargin'] + columns\n",
    "df = df[columns]\n",
    "\n",
    "X = df.loc[:, 'ProductModelNo':].as_matrix().astype('int64')\n",
    "y = df['ProfitMargin'].ravel()"
   ]
  },
  {
   "cell_type": "code",
   "execution_count": 86,
   "metadata": {},
   "outputs": [
    {
     "name": "stdout",
     "output_type": "stream",
     "text": [
      "(23, 12)\n",
      "(23,)\n"
     ]
    }
   ],
   "source": [
    "print(X.shape)\n",
    "print(y.shape)"
   ]
  },
  {
   "cell_type": "code",
   "execution_count": 87,
   "metadata": {},
   "outputs": [],
   "source": [
    "#split data into 80/20 using train_test_split function\n",
    "from sklearn.model_selection import train_test_split\n",
    "X_train, X_test, y_train, y_test = train_test_split(X, y, test_size=0.3, random_state=0)"
   ]
  },
  {
   "cell_type": "code",
   "execution_count": 88,
   "metadata": {},
   "outputs": [
    {
     "name": "stdout",
     "output_type": "stream",
     "text": [
      "train: (16, 12), (16,)\n",
      "test: (7, 12), (7,)\n"
     ]
    }
   ],
   "source": [
    "print(\"train: {0}, {1}\".format(X_train.shape, y_train.shape))\n",
    "print(\"test: {0}, {1}\".format(X_test.shape, y_test.shape))"
   ]
  },
  {
   "cell_type": "code",
   "execution_count": 89,
   "metadata": {},
   "outputs": [
    {
     "name": "stdout",
     "output_type": "stream",
     "text": [
      "Average survival for train: 14.081\n",
      "Average survival for test: 18.985\n"
     ]
    }
   ],
   "source": [
    "#chack for average survival \n",
    "print(\"Average survival for train: {0:.3f}\".format(np.mean(y_train)))\n",
    "print(\"Average survival for test: {0:.3f}\".format(np.mean(y_test)))"
   ]
  },
  {
   "cell_type": "code",
   "execution_count": 90,
   "metadata": {},
   "outputs": [
    {
     "ename": "ValueError",
     "evalue": "Unknown label type: 'continuous'",
     "output_type": "error",
     "traceback": [
      "\u001b[0;31m---------------------------------------------------------------------------\u001b[0m",
      "\u001b[0;31mValueError\u001b[0m                                Traceback (most recent call last)",
      "\u001b[0;32m<ipython-input-90-cdbe1149b442>\u001b[0m in \u001b[0;36m<module>\u001b[0;34m()\u001b[0m\n\u001b[1;32m      2\u001b[0m \u001b[0;32mfrom\u001b[0m \u001b[0msklearn\u001b[0m\u001b[0;34m.\u001b[0m\u001b[0mlinear_model\u001b[0m \u001b[0;32mimport\u001b[0m \u001b[0mLogisticRegression\u001b[0m\u001b[0;34m\u001b[0m\u001b[0m\n\u001b[1;32m      3\u001b[0m \u001b[0mlogisticRg_model\u001b[0m \u001b[0;34m=\u001b[0m \u001b[0mLogisticRegression\u001b[0m\u001b[0;34m(\u001b[0m\u001b[0mrandom_state\u001b[0m \u001b[0;34m=\u001b[0m \u001b[0;36m0\u001b[0m\u001b[0;34m)\u001b[0m\u001b[0;34m\u001b[0m\u001b[0m\n\u001b[0;32m----> 4\u001b[0;31m \u001b[0mlogisticRg_model\u001b[0m\u001b[0;34m.\u001b[0m\u001b[0mfit\u001b[0m\u001b[0;34m(\u001b[0m\u001b[0mX_train\u001b[0m\u001b[0;34m,\u001b[0m \u001b[0my_train\u001b[0m\u001b[0;34m)\u001b[0m\u001b[0;34m\u001b[0m\u001b[0m\n\u001b[0m",
      "\u001b[0;32m~/.local/lib/python3.5/site-packages/sklearn/linear_model/logistic.py\u001b[0m in \u001b[0;36mfit\u001b[0;34m(self, X, y, sample_weight)\u001b[0m\n\u001b[1;32m   1215\u001b[0m         X, y = check_X_y(X, y, accept_sparse='csr', dtype=_dtype,\n\u001b[1;32m   1216\u001b[0m                          order=\"C\")\n\u001b[0;32m-> 1217\u001b[0;31m         \u001b[0mcheck_classification_targets\u001b[0m\u001b[0;34m(\u001b[0m\u001b[0my\u001b[0m\u001b[0;34m)\u001b[0m\u001b[0;34m\u001b[0m\u001b[0m\n\u001b[0m\u001b[1;32m   1218\u001b[0m         \u001b[0mself\u001b[0m\u001b[0;34m.\u001b[0m\u001b[0mclasses_\u001b[0m \u001b[0;34m=\u001b[0m \u001b[0mnp\u001b[0m\u001b[0;34m.\u001b[0m\u001b[0munique\u001b[0m\u001b[0;34m(\u001b[0m\u001b[0my\u001b[0m\u001b[0;34m)\u001b[0m\u001b[0;34m\u001b[0m\u001b[0m\n\u001b[1;32m   1219\u001b[0m         \u001b[0mn_samples\u001b[0m\u001b[0;34m,\u001b[0m \u001b[0mn_features\u001b[0m \u001b[0;34m=\u001b[0m \u001b[0mX\u001b[0m\u001b[0;34m.\u001b[0m\u001b[0mshape\u001b[0m\u001b[0;34m\u001b[0m\u001b[0m\n",
      "\u001b[0;32m~/.local/lib/python3.5/site-packages/sklearn/utils/multiclass.py\u001b[0m in \u001b[0;36mcheck_classification_targets\u001b[0;34m(y)\u001b[0m\n\u001b[1;32m    170\u001b[0m     if y_type not in ['binary', 'multiclass', 'multiclass-multioutput',\n\u001b[1;32m    171\u001b[0m                       'multilabel-indicator', 'multilabel-sequences']:\n\u001b[0;32m--> 172\u001b[0;31m         \u001b[0;32mraise\u001b[0m \u001b[0mValueError\u001b[0m\u001b[0;34m(\u001b[0m\u001b[0;34m\"Unknown label type: %r\"\u001b[0m \u001b[0;34m%\u001b[0m \u001b[0my_type\u001b[0m\u001b[0;34m)\u001b[0m\u001b[0;34m\u001b[0m\u001b[0m\n\u001b[0m\u001b[1;32m    173\u001b[0m \u001b[0;34m\u001b[0m\u001b[0m\n\u001b[1;32m    174\u001b[0m \u001b[0;34m\u001b[0m\u001b[0m\n",
      "\u001b[0;31mValueError\u001b[0m: Unknown label type: 'continuous'"
     ]
    }
   ],
   "source": [
    "#import logistic regression\n",
    "from sklearn.linear_model import LogisticRegression\n",
    "logisticRg_model = LogisticRegression(random_state = 0)\n",
    "logisticRg_model.fit(X_train, y_train)"
   ]
  },
  {
   "cell_type": "code",
   "execution_count": null,
   "metadata": {},
   "outputs": [],
   "source": []
  }
 ],
 "metadata": {
  "kernelspec": {
   "display_name": "Python 3",
   "language": "python",
   "name": "python3"
  },
  "language_info": {
   "codemirror_mode": {
    "name": "ipython",
    "version": 3
   },
   "file_extension": ".py",
   "mimetype": "text/x-python",
   "name": "python",
   "nbconvert_exporter": "python",
   "pygments_lexer": "ipython3",
   "version": "3.5.2"
  }
 },
 "nbformat": 4,
 "nbformat_minor": 2
}
